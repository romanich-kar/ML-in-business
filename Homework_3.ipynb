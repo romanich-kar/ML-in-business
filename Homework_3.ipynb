{
  "nbformat": 4,
  "nbformat_minor": 0,
  "metadata": {
    "colab": {
      "name": "Homework_3.ipynb",
      "provenance": [],
      "collapsed_sections": []
    },
    "kernelspec": {
      "name": "python3",
      "display_name": "Python 3"
    },
    "language_info": {
      "name": "python"
    }
  },
  "cells": [
    {
      "cell_type": "markdown",
      "source": [
        "__Домашнее задание к уроку №3__"
      ],
      "metadata": {
        "id": "aLQdzQ6YGvOp"
      }
    },
    {
      "cell_type": "markdown",
      "source": [
        "1. Обучить несколько разных моделей на наборе данных ССЗ (train_case2.csv): логрег, бустинг, лес и т.д - на ваш выбор 2-3 варианта"
      ],
      "metadata": {
        "id": "L93mP6LbHAtB"
      }
    },
    {
      "cell_type": "markdown",
      "source": [
        "Загрузим датасет и подготовим данные:"
      ],
      "metadata": {
        "id": "g3QVWxt-HnVw"
      }
    },
    {
      "cell_type": "code",
      "source": [
        "import numpy as np\n",
        "import pandas as pd\n",
        "import matplotlib.pyplot as plt\n",
        "\n",
        "from sklearn.feature_extraction.text import TfidfVectorizer\n",
        "from sklearn.linear_model import LogisticRegression\n",
        "from sklearn.ensemble import GradientBoostingClassifier\n",
        "from sklearn.model_selection import cross_val_score, train_test_split\n",
        "from sklearn.ensemble import RandomForestClassifier\n",
        "from sklearn.pipeline import Pipeline, make_pipeline\n",
        "from sklearn.base import BaseEstimator, TransformerMixin"
      ],
      "metadata": {
        "id": "qmQxS56YH6lg"
      },
      "execution_count": 1,
      "outputs": []
    },
    {
      "cell_type": "code",
      "execution_count": 2,
      "metadata": {
        "colab": {
          "base_uri": "https://localhost:8080/"
        },
        "id": "9o3rd72jGrIb",
        "outputId": "82667399-22e7-4698-8894-ea382cd4e5a4"
      },
      "outputs": [
        {
          "output_type": "stream",
          "name": "stdout",
          "text": [
            "--2022-04-01 08:50:46--  https://drive.google.com/uc?export=download&id=1Si4EJ_RexI3Q7yZU8eLjgp4ORe_BXr4G\n",
            "Resolving drive.google.com (drive.google.com)... 142.250.141.100, 142.250.141.101, 142.250.141.138, ...\n",
            "Connecting to drive.google.com (drive.google.com)|142.250.141.100|:443... connected.\n",
            "HTTP request sent, awaiting response... 303 See Other\n",
            "Location: https://doc-00-c0-docs.googleusercontent.com/docs/securesc/ha0ro937gcuc7l7deffksulhg5h7mbp1/vj1mri7tlcp8k1ao6e9caddvi4ktofvi/1648803000000/14904333240138417226/*/1Si4EJ_RexI3Q7yZU8eLjgp4ORe_BXr4G?e=download [following]\n",
            "Warning: wildcards not supported in HTTP.\n",
            "--2022-04-01 08:50:47--  https://doc-00-c0-docs.googleusercontent.com/docs/securesc/ha0ro937gcuc7l7deffksulhg5h7mbp1/vj1mri7tlcp8k1ao6e9caddvi4ktofvi/1648803000000/14904333240138417226/*/1Si4EJ_RexI3Q7yZU8eLjgp4ORe_BXr4G?e=download\n",
            "Resolving doc-00-c0-docs.googleusercontent.com (doc-00-c0-docs.googleusercontent.com)... 142.250.141.132, 2607:f8b0:4023:c0b::84\n",
            "Connecting to doc-00-c0-docs.googleusercontent.com (doc-00-c0-docs.googleusercontent.com)|142.250.141.132|:443... connected.\n",
            "HTTP request sent, awaiting response... 200 OK\n",
            "Length: 2941524 (2.8M) [text/csv]\n",
            "Saving to: ‘train_case2.csv’\n",
            "\n",
            "train_case2.csv     100%[===================>]   2.80M  13.7MB/s    in 0.2s    \n",
            "\n",
            "2022-04-01 08:50:47 (13.7 MB/s) - ‘train_case2.csv’ saved [2941524/2941524]\n",
            "\n"
          ]
        }
      ],
      "source": [
        "!wget 'https://drive.google.com/uc?export=download&id=1Si4EJ_RexI3Q7yZU8eLjgp4ORe_BXr4G' -O train_case2.csv"
      ]
    },
    {
      "cell_type": "code",
      "source": [
        "df = pd.read_csv('train_case2.csv', ';')\n",
        "df.head()"
      ],
      "metadata": {
        "colab": {
          "base_uri": "https://localhost:8080/",
          "height": 261
        },
        "id": "1A-hBQfBHw3x",
        "outputId": "ad5ab7f5-0abf-4f37-aa02-0bce4abd6872"
      },
      "execution_count": 3,
      "outputs": [
        {
          "output_type": "stream",
          "name": "stderr",
          "text": [
            "/usr/local/lib/python3.7/dist-packages/IPython/core/interactiveshell.py:2882: FutureWarning: In a future version of pandas all arguments of read_csv except for the argument 'filepath_or_buffer' will be keyword-only\n",
            "  exec(code_obj, self.user_global_ns, self.user_ns)\n"
          ]
        },
        {
          "output_type": "execute_result",
          "data": {
            "text/plain": [
              "   id    age  gender  height  weight  ap_hi  ap_lo  cholesterol  gluc  smoke  \\\n",
              "0   0  18393       2     168    62.0    110     80            1     1      0   \n",
              "1   1  20228       1     156    85.0    140     90            3     1      0   \n",
              "2   2  18857       1     165    64.0    130     70            3     1      0   \n",
              "3   3  17623       2     169    82.0    150    100            1     1      0   \n",
              "4   4  17474       1     156    56.0    100     60            1     1      0   \n",
              "\n",
              "   alco  active  cardio  \n",
              "0     0       1       0  \n",
              "1     0       1       1  \n",
              "2     0       0       1  \n",
              "3     0       1       1  \n",
              "4     0       0       0  "
            ],
            "text/html": [
              "\n",
              "  <div id=\"df-24b14023-1bb9-4d10-afe8-cc5e75e4ab98\">\n",
              "    <div class=\"colab-df-container\">\n",
              "      <div>\n",
              "<style scoped>\n",
              "    .dataframe tbody tr th:only-of-type {\n",
              "        vertical-align: middle;\n",
              "    }\n",
              "\n",
              "    .dataframe tbody tr th {\n",
              "        vertical-align: top;\n",
              "    }\n",
              "\n",
              "    .dataframe thead th {\n",
              "        text-align: right;\n",
              "    }\n",
              "</style>\n",
              "<table border=\"1\" class=\"dataframe\">\n",
              "  <thead>\n",
              "    <tr style=\"text-align: right;\">\n",
              "      <th></th>\n",
              "      <th>id</th>\n",
              "      <th>age</th>\n",
              "      <th>gender</th>\n",
              "      <th>height</th>\n",
              "      <th>weight</th>\n",
              "      <th>ap_hi</th>\n",
              "      <th>ap_lo</th>\n",
              "      <th>cholesterol</th>\n",
              "      <th>gluc</th>\n",
              "      <th>smoke</th>\n",
              "      <th>alco</th>\n",
              "      <th>active</th>\n",
              "      <th>cardio</th>\n",
              "    </tr>\n",
              "  </thead>\n",
              "  <tbody>\n",
              "    <tr>\n",
              "      <th>0</th>\n",
              "      <td>0</td>\n",
              "      <td>18393</td>\n",
              "      <td>2</td>\n",
              "      <td>168</td>\n",
              "      <td>62.0</td>\n",
              "      <td>110</td>\n",
              "      <td>80</td>\n",
              "      <td>1</td>\n",
              "      <td>1</td>\n",
              "      <td>0</td>\n",
              "      <td>0</td>\n",
              "      <td>1</td>\n",
              "      <td>0</td>\n",
              "    </tr>\n",
              "    <tr>\n",
              "      <th>1</th>\n",
              "      <td>1</td>\n",
              "      <td>20228</td>\n",
              "      <td>1</td>\n",
              "      <td>156</td>\n",
              "      <td>85.0</td>\n",
              "      <td>140</td>\n",
              "      <td>90</td>\n",
              "      <td>3</td>\n",
              "      <td>1</td>\n",
              "      <td>0</td>\n",
              "      <td>0</td>\n",
              "      <td>1</td>\n",
              "      <td>1</td>\n",
              "    </tr>\n",
              "    <tr>\n",
              "      <th>2</th>\n",
              "      <td>2</td>\n",
              "      <td>18857</td>\n",
              "      <td>1</td>\n",
              "      <td>165</td>\n",
              "      <td>64.0</td>\n",
              "      <td>130</td>\n",
              "      <td>70</td>\n",
              "      <td>3</td>\n",
              "      <td>1</td>\n",
              "      <td>0</td>\n",
              "      <td>0</td>\n",
              "      <td>0</td>\n",
              "      <td>1</td>\n",
              "    </tr>\n",
              "    <tr>\n",
              "      <th>3</th>\n",
              "      <td>3</td>\n",
              "      <td>17623</td>\n",
              "      <td>2</td>\n",
              "      <td>169</td>\n",
              "      <td>82.0</td>\n",
              "      <td>150</td>\n",
              "      <td>100</td>\n",
              "      <td>1</td>\n",
              "      <td>1</td>\n",
              "      <td>0</td>\n",
              "      <td>0</td>\n",
              "      <td>1</td>\n",
              "      <td>1</td>\n",
              "    </tr>\n",
              "    <tr>\n",
              "      <th>4</th>\n",
              "      <td>4</td>\n",
              "      <td>17474</td>\n",
              "      <td>1</td>\n",
              "      <td>156</td>\n",
              "      <td>56.0</td>\n",
              "      <td>100</td>\n",
              "      <td>60</td>\n",
              "      <td>1</td>\n",
              "      <td>1</td>\n",
              "      <td>0</td>\n",
              "      <td>0</td>\n",
              "      <td>0</td>\n",
              "      <td>0</td>\n",
              "    </tr>\n",
              "  </tbody>\n",
              "</table>\n",
              "</div>\n",
              "      <button class=\"colab-df-convert\" onclick=\"convertToInteractive('df-24b14023-1bb9-4d10-afe8-cc5e75e4ab98')\"\n",
              "              title=\"Convert this dataframe to an interactive table.\"\n",
              "              style=\"display:none;\">\n",
              "        \n",
              "  <svg xmlns=\"http://www.w3.org/2000/svg\" height=\"24px\"viewBox=\"0 0 24 24\"\n",
              "       width=\"24px\">\n",
              "    <path d=\"M0 0h24v24H0V0z\" fill=\"none\"/>\n",
              "    <path d=\"M18.56 5.44l.94 2.06.94-2.06 2.06-.94-2.06-.94-.94-2.06-.94 2.06-2.06.94zm-11 1L8.5 8.5l.94-2.06 2.06-.94-2.06-.94L8.5 2.5l-.94 2.06-2.06.94zm10 10l.94 2.06.94-2.06 2.06-.94-2.06-.94-.94-2.06-.94 2.06-2.06.94z\"/><path d=\"M17.41 7.96l-1.37-1.37c-.4-.4-.92-.59-1.43-.59-.52 0-1.04.2-1.43.59L10.3 9.45l-7.72 7.72c-.78.78-.78 2.05 0 2.83L4 21.41c.39.39.9.59 1.41.59.51 0 1.02-.2 1.41-.59l7.78-7.78 2.81-2.81c.8-.78.8-2.07 0-2.86zM5.41 20L4 18.59l7.72-7.72 1.47 1.35L5.41 20z\"/>\n",
              "  </svg>\n",
              "      </button>\n",
              "      \n",
              "  <style>\n",
              "    .colab-df-container {\n",
              "      display:flex;\n",
              "      flex-wrap:wrap;\n",
              "      gap: 12px;\n",
              "    }\n",
              "\n",
              "    .colab-df-convert {\n",
              "      background-color: #E8F0FE;\n",
              "      border: none;\n",
              "      border-radius: 50%;\n",
              "      cursor: pointer;\n",
              "      display: none;\n",
              "      fill: #1967D2;\n",
              "      height: 32px;\n",
              "      padding: 0 0 0 0;\n",
              "      width: 32px;\n",
              "    }\n",
              "\n",
              "    .colab-df-convert:hover {\n",
              "      background-color: #E2EBFA;\n",
              "      box-shadow: 0px 1px 2px rgba(60, 64, 67, 0.3), 0px 1px 3px 1px rgba(60, 64, 67, 0.15);\n",
              "      fill: #174EA6;\n",
              "    }\n",
              "\n",
              "    [theme=dark] .colab-df-convert {\n",
              "      background-color: #3B4455;\n",
              "      fill: #D2E3FC;\n",
              "    }\n",
              "\n",
              "    [theme=dark] .colab-df-convert:hover {\n",
              "      background-color: #434B5C;\n",
              "      box-shadow: 0px 1px 3px 1px rgba(0, 0, 0, 0.15);\n",
              "      filter: drop-shadow(0px 1px 2px rgba(0, 0, 0, 0.3));\n",
              "      fill: #FFFFFF;\n",
              "    }\n",
              "  </style>\n",
              "\n",
              "      <script>\n",
              "        const buttonEl =\n",
              "          document.querySelector('#df-24b14023-1bb9-4d10-afe8-cc5e75e4ab98 button.colab-df-convert');\n",
              "        buttonEl.style.display =\n",
              "          google.colab.kernel.accessAllowed ? 'block' : 'none';\n",
              "\n",
              "        async function convertToInteractive(key) {\n",
              "          const element = document.querySelector('#df-24b14023-1bb9-4d10-afe8-cc5e75e4ab98');\n",
              "          const dataTable =\n",
              "            await google.colab.kernel.invokeFunction('convertToInteractive',\n",
              "                                                     [key], {});\n",
              "          if (!dataTable) return;\n",
              "\n",
              "          const docLinkHtml = 'Like what you see? Visit the ' +\n",
              "            '<a target=\"_blank\" href=https://colab.research.google.com/notebooks/data_table.ipynb>data table notebook</a>'\n",
              "            + ' to learn more about interactive tables.';\n",
              "          element.innerHTML = '';\n",
              "          dataTable['output_type'] = 'display_data';\n",
              "          await google.colab.output.renderOutput(dataTable, element);\n",
              "          const docLink = document.createElement('div');\n",
              "          docLink.innerHTML = docLinkHtml;\n",
              "          element.appendChild(docLink);\n",
              "        }\n",
              "      </script>\n",
              "    </div>\n",
              "  </div>\n",
              "  "
            ]
          },
          "metadata": {},
          "execution_count": 3
        }
      ]
    },
    {
      "cell_type": "code",
      "source": [
        "# разделим данные на train/test\n",
        "X_train, X_test, y_train, y_test = train_test_split(df.drop(columns='cardio'), \n",
        "                                                    df['cardio'], random_state=0)"
      ],
      "metadata": {
        "id": "uvlxatOBILZZ"
      },
      "execution_count": 4,
      "outputs": []
    },
    {
      "cell_type": "markdown",
      "source": [
        "К полям:\n",
        "- gender, cholesterol применим OHE-кодирование\n",
        "- age, height, weight, ap_hi, ap_lo - standardScaler\n",
        "- gluc, smoke, alco, active - оставим пока как есть"
      ],
      "metadata": {
        "id": "kvGAGefAJpoq"
      }
    },
    {
      "cell_type": "code",
      "source": [
        "class ColumnSelector(BaseEstimator, TransformerMixin):\n",
        "    \"\"\"\n",
        "    Transformer to select a single column from the data frame to perform additional transformations on\n",
        "    \"\"\"\n",
        "    def __init__(self, key):\n",
        "        self.key = key\n",
        "\n",
        "    def fit(self, X, y=None):\n",
        "        return self\n",
        "\n",
        "    def transform(self, X):\n",
        "        return X[self.key]\n",
        "    \n",
        "class NumberSelector(BaseEstimator, TransformerMixin):\n",
        "    \"\"\"\n",
        "    Transformer to select a single column from the data frame to perform additional transformations on\n",
        "    Use on numeric columns in the data\n",
        "    \"\"\"\n",
        "    def __init__(self, key):\n",
        "        self.key = key\n",
        "\n",
        "    def fit(self, X, y=None):\n",
        "        return self\n",
        "\n",
        "    def transform(self, X):\n",
        "        return X[[self.key]]\n",
        "    \n",
        "class OHEEncoder(BaseEstimator, TransformerMixin):\n",
        "    def __init__(self, key):\n",
        "        self.key = key\n",
        "        self.columns = []\n",
        "\n",
        "    def fit(self, X, y=None):\n",
        "        self.columns = [col for col in pd.get_dummies(X, prefix=self.key).columns]\n",
        "        return self\n",
        "\n",
        "    def transform(self, X):\n",
        "        X = pd.get_dummies(X, prefix=self.key)\n",
        "        test_columns = [col for col in X.columns]\n",
        "        for col_ in self.columns:\n",
        "            if col_ not in test_columns:\n",
        "                X[col_] = 0\n",
        "        return X[self.columns]\n",
        "\n",
        "\n",
        "from sklearn.preprocessing import StandardScaler\n",
        "\n",
        "\n",
        "continuos_cols = ['age', 'height', 'weight', 'ap_hi', 'ap_lo']\n",
        "cat_cols = ['gender', 'cholesterol']\n",
        "base_cols = ['gluc', 'smoke', 'alco', 'active']\n",
        "\n",
        "continuos_transformers = []\n",
        "cat_transformers = []\n",
        "base_transformers = []\n",
        "\n",
        "for cont_col in continuos_cols:\n",
        "    transfomer =  Pipeline([\n",
        "                ('selector', NumberSelector(key=cont_col)),\n",
        "                ('standard', StandardScaler())\n",
        "            ])\n",
        "    continuos_transformers.append((cont_col, transfomer))\n",
        "    \n",
        "for cat_col in cat_cols:\n",
        "    cat_transformer = Pipeline([\n",
        "                ('selector', ColumnSelector(key=cat_col)),\n",
        "                ('ohe', OHEEncoder(key=cat_col))\n",
        "            ])\n",
        "    cat_transformers.append((cat_col, cat_transformer))\n",
        "    \n",
        "for base_col in base_cols:\n",
        "    base_transformer = Pipeline([\n",
        "                ('selector', NumberSelector(key=base_col))\n",
        "            ])\n",
        "    base_transformers.append((base_col, base_transformer))"
      ],
      "metadata": {
        "id": "2W_KEuuOJq7Y"
      },
      "execution_count": 5,
      "outputs": []
    },
    {
      "cell_type": "markdown",
      "source": [
        "Теперь объединим все наши трансформеры с помощью FeatureUnion"
      ],
      "metadata": {
        "id": "_39kCLacKSBE"
      }
    },
    {
      "cell_type": "code",
      "source": [
        "from sklearn.pipeline import FeatureUnion\n",
        "\n",
        "feats = FeatureUnion(continuos_transformers+cat_transformers+base_transformers)\n",
        "feature_processing = Pipeline([('feats', feats)])\n",
        "\n",
        "feature_processing.fit_transform(X_train)"
      ],
      "metadata": {
        "colab": {
          "base_uri": "https://localhost:8080/"
        },
        "id": "glxQ4-WFKTXi",
        "outputId": "afa1e733-c157-4f9b-e3fb-db732060743f"
      },
      "execution_count": 6,
      "outputs": [
        {
          "output_type": "execute_result",
          "data": {
            "text/plain": [
              "array([[-1.73391771,  0.6873301 ,  0.74843904, ...,  1.        ,\n",
              "         0.        ,  1.        ],\n",
              "       [-1.67343538,  0.07758923, -0.29640123, ...,  0.        ,\n",
              "         0.        ,  1.        ],\n",
              "       [ 0.13738132,  1.17512278, -0.15708919, ...,  0.        ,\n",
              "         0.        ,  0.        ],\n",
              "       ...,\n",
              "       [ 1.17775864,  1.17512278, -0.15708919, ...,  0.        ,\n",
              "         0.        ,  1.        ],\n",
              "       [-0.47190715, -1.38578883,  0.74843904, ...,  0.        ,\n",
              "         0.        ,  1.        ],\n",
              "       [ 0.38174619,  0.56538192, -0.08743318, ...,  0.        ,\n",
              "         0.        ,  1.        ]])"
            ]
          },
          "metadata": {},
          "execution_count": 6
        }
      ]
    },
    {
      "cell_type": "markdown",
      "source": [
        "Добавим классификатор Logistic Regression и запустим кросс-валидацию"
      ],
      "metadata": {
        "id": "9mXDoOBJKSGI"
      }
    },
    {
      "cell_type": "code",
      "source": [
        "classifier_LR = Pipeline([\n",
        "    ('features', feats),\n",
        "    ('classifier', LogisticRegression(random_state=42)),\n",
        "])\n",
        "\n",
        "\n",
        "# запустим кросс-валидацию\n",
        "cv_scores = cross_val_score(classifier_LR, X_train, y_train, cv=7, scoring='roc_auc')\n",
        "cv_score = np.mean(cv_scores)\n",
        "cv_score_std = np.std(cv_scores)\n",
        "print(f'CV score is {cv_score}+-{cv_score_std}')\n",
        "\n",
        "# обучим пайплайн на всем тренировочном датасете\n",
        "classifier_LR.fit(X_train, y_train)\n",
        "y_score = classifier_LR.predict_proba(X_test)[:, 1]"
      ],
      "metadata": {
        "colab": {
          "base_uri": "https://localhost:8080/"
        },
        "id": "Gea18yc6Kq5K",
        "outputId": "49679953-f38c-4174-b293-55f4dc2c1841"
      },
      "execution_count": 51,
      "outputs": [
        {
          "output_type": "stream",
          "name": "stdout",
          "text": [
            "CV score is 0.7864573689384385+-0.004422021036885763\n"
          ]
        }
      ]
    },
    {
      "cell_type": "code",
      "source": [
        "from sklearn.metrics import precision_recall_curve, roc_curve, roc_auc_score, confusion_matrix\n",
        "\n",
        "b = 1\n",
        "precision, recall, thresholds = precision_recall_curve(y_test.values, y_score)\n",
        "fscore = (1 +b**2) * (precision * recall) / (b**2 * precision + recall)\n",
        "# locate the index of the largest f score\n",
        "ix = np.argmax(fscore)\n",
        "print(f'Best Threshold={thresholds[ix]}, F-Score={fscore[ix]:.3f}, Precision={precision[ix]:.3f}, Recall={recall[ix]:.3f}')"
      ],
      "metadata": {
        "colab": {
          "base_uri": "https://localhost:8080/"
        },
        "id": "XuvYI__FUIfT",
        "outputId": "77f16008-3714-4ac1-fae3-cd58a1fd88a6"
      },
      "execution_count": 52,
      "outputs": [
        {
          "output_type": "stream",
          "name": "stdout",
          "text": [
            "Best Threshold=0.3869370891147379, F-Score=0.730, Precision=0.647, Recall=0.838\n"
          ]
        }
      ]
    },
    {
      "cell_type": "markdown",
      "source": [
        "Построим матрицу ошибок."
      ],
      "metadata": {
        "id": "ZG7SoZ0mVggE"
      }
    },
    {
      "cell_type": "code",
      "source": [
        "cnf_matrix_LR = confusion_matrix(y_test, y_score > thresholds[ix])\n",
        "cnf_matrix_LR"
      ],
      "metadata": {
        "colab": {
          "base_uri": "https://localhost:8080/"
        },
        "id": "YLaRVpNsVfsn",
        "outputId": "ac5b1651-3d65-421c-f84b-0fd3e071d291"
      },
      "execution_count": 53,
      "outputs": [
        {
          "output_type": "execute_result",
          "data": {
            "text/plain": [
              "array([[4861, 3959],\n",
              "       [1411, 7269]])"
            ]
          },
          "metadata": {},
          "execution_count": 53
        }
      ]
    },
    {
      "cell_type": "code",
      "source": [
        "TN = cnf_matrix_LR[0][0]\n",
        "FN = cnf_matrix_LR[1][0]\n",
        "TP = cnf_matrix_LR[1][1]\n",
        "FP = cnf_matrix_LR[0][1]"
      ],
      "metadata": {
        "id": "ZEwm56BiWHtl"
      },
      "execution_count": 47,
      "outputs": []
    },
    {
      "cell_type": "markdown",
      "source": [
        "Оценим расходы, если делать тест по совету модели LR:"
      ],
      "metadata": {
        "id": "dSLFALs_Ws_0"
      }
    },
    {
      "cell_type": "code",
      "source": [
        "rubl_test = 1400\n",
        "rubl_early_treatment = 15000\n",
        "rubl_late_treatment = 20000"
      ],
      "metadata": {
        "id": "rapYPBIkWsL1"
      },
      "execution_count": 23,
      "outputs": []
    },
    {
      "cell_type": "code",
      "source": [
        "expenses_LR = (FP + TP) * rubl_test + FN * rubl_late_treatment + TP * rubl_early_treatment\n",
        "print('расходы, если использовать LR:', expenses_LR)"
      ],
      "metadata": {
        "colab": {
          "base_uri": "https://localhost:8080/"
        },
        "id": "FsBp23EBW4dT",
        "outputId": "de4bf9a1-ae1c-4495-d0af-65f096b5d377"
      },
      "execution_count": 24,
      "outputs": [
        {
          "output_type": "stream",
          "name": "stdout",
          "text": [
            "расходы, если использовать LR: 152974200\n"
          ]
        }
      ]
    },
    {
      "cell_type": "markdown",
      "source": [
        "Сохраним метрики для модели LR."
      ],
      "metadata": {
        "id": "ovIWMqf3XvGK"
      }
    },
    {
      "cell_type": "code",
      "source": [
        "data_LR = [precision[ix], recall[ix], fscore[ix], cv_score]\n",
        "data_LR"
      ],
      "metadata": {
        "colab": {
          "base_uri": "https://localhost:8080/"
        },
        "id": "KHkoJWJLX0S4",
        "outputId": "27696c0c-e5b9-4f6e-f0bf-f67f7ffb5b4f"
      },
      "execution_count": 25,
      "outputs": [
        {
          "output_type": "execute_result",
          "data": {
            "text/plain": [
              "[0.6474307596402173,\n",
              " 0.8375576036866359,\n",
              " 0.7303229695112764,\n",
              " 0.7864573689384385]"
            ]
          },
          "metadata": {},
          "execution_count": 25
        }
      ]
    },
    {
      "cell_type": "markdown",
      "source": [
        "Проделаем то же самое для классификатора Gradient Boosting."
      ],
      "metadata": {
        "id": "C36x_SYwZPgG"
      }
    },
    {
      "cell_type": "code",
      "source": [
        "classifier_GB = Pipeline([\n",
        "    ('features', feats),\n",
        "    ('classifier_GB', GradientBoostingClassifier(random_state=42)),\n",
        "])\n",
        "\n",
        "\n",
        "# запустим кросс-валидацию\n",
        "cv_scores = cross_val_score(classifier_GB, X_train, y_train, cv=7, scoring='roc_auc')\n",
        "cv_score = np.mean(cv_scores)\n",
        "cv_score_std = np.std(cv_scores)\n",
        "print(f'CV score is {cv_score}+-{cv_score_std}')\n",
        "\n",
        "# обучим пайплайн на всем тренировочном датасете\n",
        "classifier_GB.fit(X_train, y_train)\n",
        "y_score = classifier_GB.predict_proba(X_test)[:, 1]"
      ],
      "metadata": {
        "colab": {
          "base_uri": "https://localhost:8080/"
        },
        "id": "zYTXRC_CZh9R",
        "outputId": "bfcf24d9-1de6-41e0-a6e9-9fb10f27a2ca"
      },
      "execution_count": 26,
      "outputs": [
        {
          "output_type": "stream",
          "name": "stdout",
          "text": [
            "CV score is 0.8023336401314394+-0.003067762759094604\n"
          ]
        }
      ]
    },
    {
      "cell_type": "code",
      "source": [
        "precision, recall, thresholds = precision_recall_curve(y_test.values, y_score)\n",
        "fscore = (1 +b**2) * (precision * recall) / (b**2 * precision + recall)\n",
        "# locate the index of the largest f score\n",
        "ix = np.argmax(fscore)\n",
        "print(f'Best Threshold={thresholds[ix]}, F-Score={fscore[ix]:.3f}, Precision={precision[ix]:.3f}, Recall={recall[ix]:.3f}')"
      ],
      "metadata": {
        "colab": {
          "base_uri": "https://localhost:8080/"
        },
        "id": "LwUoU9gtaiVR",
        "outputId": "da24042f-573b-403e-90a2-2b8e871c9d7e"
      },
      "execution_count": 27,
      "outputs": [
        {
          "output_type": "stream",
          "name": "stdout",
          "text": [
            "Best Threshold=0.39494659702686624, F-Score=0.740, Precision=0.698, Recall=0.788\n"
          ]
        }
      ]
    },
    {
      "cell_type": "markdown",
      "source": [
        "Построим матрицу ошибок."
      ],
      "metadata": {
        "id": "77l4FWtyYEfA"
      }
    },
    {
      "cell_type": "code",
      "source": [
        "cnf_matrix = confusion_matrix(y_test, y_score > thresholds[ix])\n",
        "cnf_matrix"
      ],
      "metadata": {
        "colab": {
          "base_uri": "https://localhost:8080/"
        },
        "id": "fWcYJApJYFjd",
        "outputId": "c1670bf8-f6e7-438d-ed56-d0122fcf0dcd"
      },
      "execution_count": 28,
      "outputs": [
        {
          "output_type": "execute_result",
          "data": {
            "text/plain": [
              "array([[5858, 2962],\n",
              "       [1840, 6840]])"
            ]
          },
          "metadata": {},
          "execution_count": 28
        }
      ]
    },
    {
      "cell_type": "code",
      "source": [
        "TN = cnf_matrix[0][0]\n",
        "FN = cnf_matrix[1][0]\n",
        "TP = cnf_matrix[1][1]\n",
        "FP = cnf_matrix[0][1]"
      ],
      "metadata": {
        "id": "kuQh61-jYFpz"
      },
      "execution_count": 29,
      "outputs": []
    },
    {
      "cell_type": "markdown",
      "source": [
        "Оценим расходы, если делать тест по совету модели GB:"
      ],
      "metadata": {
        "id": "asKOKPSFYP8V"
      }
    },
    {
      "cell_type": "code",
      "source": [
        "expenses_GB = (FP + TP) * rubl_test + FN * rubl_late_treatment + TP * rubl_early_treatment\n",
        "print('расходы, если использовать LR:', expenses_GB)"
      ],
      "metadata": {
        "colab": {
          "base_uri": "https://localhost:8080/"
        },
        "id": "evq6awC4YPVG",
        "outputId": "63c14155-382b-4ac5-cad0-dcd7224bb113"
      },
      "execution_count": 30,
      "outputs": [
        {
          "output_type": "stream",
          "name": "stdout",
          "text": [
            "расходы, если использовать LR: 153122800\n"
          ]
        }
      ]
    },
    {
      "cell_type": "markdown",
      "source": [
        "Сохраним метрики для модели GB."
      ],
      "metadata": {
        "id": "7C2gPEXbZPmY"
      }
    },
    {
      "cell_type": "code",
      "source": [
        "data_GB = [precision[ix], recall[ix], fscore[ix], cv_score]\n",
        "data_GB"
      ],
      "metadata": {
        "colab": {
          "base_uri": "https://localhost:8080/"
        },
        "id": "fGqcNjqFauTY",
        "outputId": "0acb2d88-658d-4b6d-91b8-b849b374adbb"
      },
      "execution_count": 31,
      "outputs": [
        {
          "output_type": "execute_result",
          "data": {
            "text/plain": [
              "[0.6978475976741814,\n",
              " 0.7881336405529954,\n",
              " 0.7402477952713303,\n",
              " 0.8023336401314394]"
            ]
          },
          "metadata": {},
          "execution_count": 31
        }
      ]
    },
    {
      "cell_type": "markdown",
      "source": [
        "И теперь обучим модель Randon Forest Classifier."
      ],
      "metadata": {
        "id": "6_eqZGbjbAAm"
      }
    },
    {
      "cell_type": "code",
      "source": [
        "classifier_RF = Pipeline([\n",
        "    ('features', feats),\n",
        "    ('classifier_RF', RandomForestClassifier(random_state=42)),\n",
        "])\n",
        "\n",
        "\n",
        "# запустим кросс-валидацию\n",
        "cv_scores = cross_val_score(classifier_RF, X_train, y_train, cv=7, scoring='roc_auc')\n",
        "cv_score = np.mean(cv_scores)\n",
        "cv_score_std = np.std(cv_scores)\n",
        "print(f'CV score is {cv_score}+-{cv_score_std}')\n",
        "\n",
        "# обучим пайплайн на всем тренировочном датасете\n",
        "classifier_RF.fit(X_train, y_train)\n",
        "y_score = classifier_RF.predict_proba(X_test)[:, 1]"
      ],
      "metadata": {
        "colab": {
          "base_uri": "https://localhost:8080/"
        },
        "id": "hmcEyT_1bNxv",
        "outputId": "549d6764-9a02-4c48-98a5-76feac4c0982"
      },
      "execution_count": 32,
      "outputs": [
        {
          "output_type": "stream",
          "name": "stdout",
          "text": [
            "CV score is 0.7743796633622809+-0.003611330100912611\n"
          ]
        }
      ]
    },
    {
      "cell_type": "code",
      "source": [
        "precision, recall, thresholds = precision_recall_curve(y_test.values, y_score)\n",
        "fscore = (1 +b**2) * (precision * recall) / (b**2 * precision + recall)\n",
        "# locate the index of the largest f score\n",
        "ix = np.argmax(fscore)\n",
        "print(f'Best Threshold={thresholds[ix]}, F-Score={fscore[ix]:.3f}, Precision={precision[ix]:.3f}, Recall={recall[ix]:.3f}')"
      ],
      "metadata": {
        "colab": {
          "base_uri": "https://localhost:8080/"
        },
        "id": "SgEEIDn1fEsj",
        "outputId": "69294588-43bc-4f14-9add-453765b12ea9"
      },
      "execution_count": 33,
      "outputs": [
        {
          "output_type": "stream",
          "name": "stdout",
          "text": [
            "Best Threshold=0.35, F-Score=0.719, Precision=0.643, Recall=0.816\n"
          ]
        }
      ]
    },
    {
      "cell_type": "markdown",
      "source": [
        "Построим матрицу ошибок."
      ],
      "metadata": {
        "id": "mclNX2akZ_7u"
      }
    },
    {
      "cell_type": "code",
      "source": [
        "cnf_matrix = confusion_matrix(y_test, y_score > thresholds[ix])\n",
        "cnf_matrix"
      ],
      "metadata": {
        "colab": {
          "base_uri": "https://localhost:8080/"
        },
        "id": "QF-lbMYLaA6b",
        "outputId": "8062b842-36f8-4ccb-8339-68acb2a72497"
      },
      "execution_count": 34,
      "outputs": [
        {
          "output_type": "execute_result",
          "data": {
            "text/plain": [
              "array([[4991, 3829],\n",
              "       [1663, 7017]])"
            ]
          },
          "metadata": {},
          "execution_count": 34
        }
      ]
    },
    {
      "cell_type": "code",
      "source": [
        "TN = cnf_matrix[0][0]\n",
        "FN = cnf_matrix[1][0]\n",
        "TP = cnf_matrix[1][1]\n",
        "FP = cnf_matrix[0][1]"
      ],
      "metadata": {
        "id": "2hlU4vHraFNz"
      },
      "execution_count": 36,
      "outputs": []
    },
    {
      "cell_type": "markdown",
      "source": [
        "Оценим расходы, если делать тест по совету модели RF:"
      ],
      "metadata": {
        "id": "a9CV75AqaK8T"
      }
    },
    {
      "cell_type": "code",
      "source": [
        "expenses_RF = (FP + TP) * rubl_test + FN * rubl_late_treatment + TP * rubl_early_treatment\n",
        "print('расходы, если использовать LR:', expenses_RF)"
      ],
      "metadata": {
        "colab": {
          "base_uri": "https://localhost:8080/"
        },
        "id": "LvrsPSsMaR8U",
        "outputId": "dd6c6427-18c9-49c4-ee5b-b7e45ad8280c"
      },
      "execution_count": 37,
      "outputs": [
        {
          "output_type": "stream",
          "name": "stdout",
          "text": [
            "расходы, если использовать LR: 153699400\n"
          ]
        }
      ]
    },
    {
      "cell_type": "markdown",
      "source": [
        "Сохраним метрики для модели RF."
      ],
      "metadata": {
        "id": "yOUb5JusbzeA"
      }
    },
    {
      "cell_type": "code",
      "source": [
        "data_RF = [precision[ix], recall[ix], fscore[ix], cv_score]\n",
        "data_RF"
      ],
      "metadata": {
        "colab": {
          "base_uri": "https://localhost:8080/"
        },
        "id": "5yRljTQvfr2p",
        "outputId": "0067a2a2-be00-49a6-ded3-382c101703ae"
      },
      "execution_count": 38,
      "outputs": [
        {
          "output_type": "execute_result",
          "data": {
            "text/plain": [
              "[0.6426690876078075,\n",
              " 0.8155529953917051,\n",
              " 0.7188626554963188,\n",
              " 0.7743796633622809]"
            ]
          },
          "metadata": {},
          "execution_count": 38
        }
      ]
    },
    {
      "cell_type": "markdown",
      "source": [
        "2. Вывести сравнение полученных моделей по основным метрикам классификации: pr/rec/auc/f_score (можно в виде таблицы, где строки - модели, а столбцы - метрики)"
      ],
      "metadata": {
        "id": "kPd-AXr_bzg7"
      }
    },
    {
      "cell_type": "code",
      "source": [
        "ML_metrics = pd.DataFrame([data_LR, data_GB, data_RF], index = ['LR', 'GB', 'RF'], columns = ['precision', 'recall', 'fscore', 'roc_auc'])\n",
        "ML_metrics"
      ],
      "metadata": {
        "colab": {
          "base_uri": "https://localhost:8080/",
          "height": 143
        },
        "id": "L-yEv3FngDhP",
        "outputId": "1a1ee2e9-5521-441e-f850-51e3d02c4155"
      },
      "execution_count": 39,
      "outputs": [
        {
          "output_type": "execute_result",
          "data": {
            "text/plain": [
              "    precision    recall    fscore   roc_auc\n",
              "LR   0.647431  0.837558  0.730323  0.786457\n",
              "GB   0.697848  0.788134  0.740248  0.802334\n",
              "RF   0.642669  0.815553  0.718863  0.774380"
            ],
            "text/html": [
              "\n",
              "  <div id=\"df-7109fa82-60ce-41b0-8543-a99c51688112\">\n",
              "    <div class=\"colab-df-container\">\n",
              "      <div>\n",
              "<style scoped>\n",
              "    .dataframe tbody tr th:only-of-type {\n",
              "        vertical-align: middle;\n",
              "    }\n",
              "\n",
              "    .dataframe tbody tr th {\n",
              "        vertical-align: top;\n",
              "    }\n",
              "\n",
              "    .dataframe thead th {\n",
              "        text-align: right;\n",
              "    }\n",
              "</style>\n",
              "<table border=\"1\" class=\"dataframe\">\n",
              "  <thead>\n",
              "    <tr style=\"text-align: right;\">\n",
              "      <th></th>\n",
              "      <th>precision</th>\n",
              "      <th>recall</th>\n",
              "      <th>fscore</th>\n",
              "      <th>roc_auc</th>\n",
              "    </tr>\n",
              "  </thead>\n",
              "  <tbody>\n",
              "    <tr>\n",
              "      <th>LR</th>\n",
              "      <td>0.647431</td>\n",
              "      <td>0.837558</td>\n",
              "      <td>0.730323</td>\n",
              "      <td>0.786457</td>\n",
              "    </tr>\n",
              "    <tr>\n",
              "      <th>GB</th>\n",
              "      <td>0.697848</td>\n",
              "      <td>0.788134</td>\n",
              "      <td>0.740248</td>\n",
              "      <td>0.802334</td>\n",
              "    </tr>\n",
              "    <tr>\n",
              "      <th>RF</th>\n",
              "      <td>0.642669</td>\n",
              "      <td>0.815553</td>\n",
              "      <td>0.718863</td>\n",
              "      <td>0.774380</td>\n",
              "    </tr>\n",
              "  </tbody>\n",
              "</table>\n",
              "</div>\n",
              "      <button class=\"colab-df-convert\" onclick=\"convertToInteractive('df-7109fa82-60ce-41b0-8543-a99c51688112')\"\n",
              "              title=\"Convert this dataframe to an interactive table.\"\n",
              "              style=\"display:none;\">\n",
              "        \n",
              "  <svg xmlns=\"http://www.w3.org/2000/svg\" height=\"24px\"viewBox=\"0 0 24 24\"\n",
              "       width=\"24px\">\n",
              "    <path d=\"M0 0h24v24H0V0z\" fill=\"none\"/>\n",
              "    <path d=\"M18.56 5.44l.94 2.06.94-2.06 2.06-.94-2.06-.94-.94-2.06-.94 2.06-2.06.94zm-11 1L8.5 8.5l.94-2.06 2.06-.94-2.06-.94L8.5 2.5l-.94 2.06-2.06.94zm10 10l.94 2.06.94-2.06 2.06-.94-2.06-.94-.94-2.06-.94 2.06-2.06.94z\"/><path d=\"M17.41 7.96l-1.37-1.37c-.4-.4-.92-.59-1.43-.59-.52 0-1.04.2-1.43.59L10.3 9.45l-7.72 7.72c-.78.78-.78 2.05 0 2.83L4 21.41c.39.39.9.59 1.41.59.51 0 1.02-.2 1.41-.59l7.78-7.78 2.81-2.81c.8-.78.8-2.07 0-2.86zM5.41 20L4 18.59l7.72-7.72 1.47 1.35L5.41 20z\"/>\n",
              "  </svg>\n",
              "      </button>\n",
              "      \n",
              "  <style>\n",
              "    .colab-df-container {\n",
              "      display:flex;\n",
              "      flex-wrap:wrap;\n",
              "      gap: 12px;\n",
              "    }\n",
              "\n",
              "    .colab-df-convert {\n",
              "      background-color: #E8F0FE;\n",
              "      border: none;\n",
              "      border-radius: 50%;\n",
              "      cursor: pointer;\n",
              "      display: none;\n",
              "      fill: #1967D2;\n",
              "      height: 32px;\n",
              "      padding: 0 0 0 0;\n",
              "      width: 32px;\n",
              "    }\n",
              "\n",
              "    .colab-df-convert:hover {\n",
              "      background-color: #E2EBFA;\n",
              "      box-shadow: 0px 1px 2px rgba(60, 64, 67, 0.3), 0px 1px 3px 1px rgba(60, 64, 67, 0.15);\n",
              "      fill: #174EA6;\n",
              "    }\n",
              "\n",
              "    [theme=dark] .colab-df-convert {\n",
              "      background-color: #3B4455;\n",
              "      fill: #D2E3FC;\n",
              "    }\n",
              "\n",
              "    [theme=dark] .colab-df-convert:hover {\n",
              "      background-color: #434B5C;\n",
              "      box-shadow: 0px 1px 3px 1px rgba(0, 0, 0, 0.15);\n",
              "      filter: drop-shadow(0px 1px 2px rgba(0, 0, 0, 0.3));\n",
              "      fill: #FFFFFF;\n",
              "    }\n",
              "  </style>\n",
              "\n",
              "      <script>\n",
              "        const buttonEl =\n",
              "          document.querySelector('#df-7109fa82-60ce-41b0-8543-a99c51688112 button.colab-df-convert');\n",
              "        buttonEl.style.display =\n",
              "          google.colab.kernel.accessAllowed ? 'block' : 'none';\n",
              "\n",
              "        async function convertToInteractive(key) {\n",
              "          const element = document.querySelector('#df-7109fa82-60ce-41b0-8543-a99c51688112');\n",
              "          const dataTable =\n",
              "            await google.colab.kernel.invokeFunction('convertToInteractive',\n",
              "                                                     [key], {});\n",
              "          if (!dataTable) return;\n",
              "\n",
              "          const docLinkHtml = 'Like what you see? Visit the ' +\n",
              "            '<a target=\"_blank\" href=https://colab.research.google.com/notebooks/data_table.ipynb>data table notebook</a>'\n",
              "            + ' to learn more about interactive tables.';\n",
              "          element.innerHTML = '';\n",
              "          dataTable['output_type'] = 'display_data';\n",
              "          await google.colab.output.renderOutput(dataTable, element);\n",
              "          const docLink = document.createElement('div');\n",
              "          docLink.innerHTML = docLinkHtml;\n",
              "          element.appendChild(docLink);\n",
              "        }\n",
              "      </script>\n",
              "    </div>\n",
              "  </div>\n",
              "  "
            ]
          },
          "metadata": {},
          "execution_count": 39
        }
      ]
    },
    {
      "cell_type": "markdown",
      "source": [
        "Метрики качества рассмотренных моделей классификации при использовании их гиперпараметров по умолчанию различаются незначительно. Лучше всех себя показала модель градиентного бустинга."
      ],
      "metadata": {
        "id": "MicsBfyqg0mH"
      }
    },
    {
      "cell_type": "markdown",
      "source": [
        "3. Вывести сравнение полученных моделей по метрикам бизнеса по показателям с урока\n",
        "    - стоимость лечения 15000р, если сделали тест и начали лечить вовремя\n",
        "    - стоимость лечения 20000р, если упустили и начали лечить когда уже проявились все симптомы\n",
        "    - стоимость теста 1400р\n",
        "\n",
        "  Сделать выводы о том, какая модель справилась с задачей лучше других."
      ],
      "metadata": {
        "id": "gJBuAUT2huJW"
      }
    },
    {
      "cell_type": "code",
      "source": [
        "business_metrics = pd.DataFrame([expenses_LR, expenses_GB, expenses_RF], index = ['LR', 'GB', 'RF'])\n",
        "business_metrics"
      ],
      "metadata": {
        "colab": {
          "base_uri": "https://localhost:8080/",
          "height": 143
        },
        "id": "1fCgNnJWdUgs",
        "outputId": "d11bcbae-2156-44c4-b7c6-70f62be303c8"
      },
      "execution_count": 43,
      "outputs": [
        {
          "output_type": "execute_result",
          "data": {
            "text/plain": [
              "            0\n",
              "LR  152974200\n",
              "GB  153122800\n",
              "RF  153699400"
            ],
            "text/html": [
              "\n",
              "  <div id=\"df-cce0c3b1-2470-401c-9aa2-5432e7f3877b\">\n",
              "    <div class=\"colab-df-container\">\n",
              "      <div>\n",
              "<style scoped>\n",
              "    .dataframe tbody tr th:only-of-type {\n",
              "        vertical-align: middle;\n",
              "    }\n",
              "\n",
              "    .dataframe tbody tr th {\n",
              "        vertical-align: top;\n",
              "    }\n",
              "\n",
              "    .dataframe thead th {\n",
              "        text-align: right;\n",
              "    }\n",
              "</style>\n",
              "<table border=\"1\" class=\"dataframe\">\n",
              "  <thead>\n",
              "    <tr style=\"text-align: right;\">\n",
              "      <th></th>\n",
              "      <th>0</th>\n",
              "    </tr>\n",
              "  </thead>\n",
              "  <tbody>\n",
              "    <tr>\n",
              "      <th>LR</th>\n",
              "      <td>152974200</td>\n",
              "    </tr>\n",
              "    <tr>\n",
              "      <th>GB</th>\n",
              "      <td>153122800</td>\n",
              "    </tr>\n",
              "    <tr>\n",
              "      <th>RF</th>\n",
              "      <td>153699400</td>\n",
              "    </tr>\n",
              "  </tbody>\n",
              "</table>\n",
              "</div>\n",
              "      <button class=\"colab-df-convert\" onclick=\"convertToInteractive('df-cce0c3b1-2470-401c-9aa2-5432e7f3877b')\"\n",
              "              title=\"Convert this dataframe to an interactive table.\"\n",
              "              style=\"display:none;\">\n",
              "        \n",
              "  <svg xmlns=\"http://www.w3.org/2000/svg\" height=\"24px\"viewBox=\"0 0 24 24\"\n",
              "       width=\"24px\">\n",
              "    <path d=\"M0 0h24v24H0V0z\" fill=\"none\"/>\n",
              "    <path d=\"M18.56 5.44l.94 2.06.94-2.06 2.06-.94-2.06-.94-.94-2.06-.94 2.06-2.06.94zm-11 1L8.5 8.5l.94-2.06 2.06-.94-2.06-.94L8.5 2.5l-.94 2.06-2.06.94zm10 10l.94 2.06.94-2.06 2.06-.94-2.06-.94-.94-2.06-.94 2.06-2.06.94z\"/><path d=\"M17.41 7.96l-1.37-1.37c-.4-.4-.92-.59-1.43-.59-.52 0-1.04.2-1.43.59L10.3 9.45l-7.72 7.72c-.78.78-.78 2.05 0 2.83L4 21.41c.39.39.9.59 1.41.59.51 0 1.02-.2 1.41-.59l7.78-7.78 2.81-2.81c.8-.78.8-2.07 0-2.86zM5.41 20L4 18.59l7.72-7.72 1.47 1.35L5.41 20z\"/>\n",
              "  </svg>\n",
              "      </button>\n",
              "      \n",
              "  <style>\n",
              "    .colab-df-container {\n",
              "      display:flex;\n",
              "      flex-wrap:wrap;\n",
              "      gap: 12px;\n",
              "    }\n",
              "\n",
              "    .colab-df-convert {\n",
              "      background-color: #E8F0FE;\n",
              "      border: none;\n",
              "      border-radius: 50%;\n",
              "      cursor: pointer;\n",
              "      display: none;\n",
              "      fill: #1967D2;\n",
              "      height: 32px;\n",
              "      padding: 0 0 0 0;\n",
              "      width: 32px;\n",
              "    }\n",
              "\n",
              "    .colab-df-convert:hover {\n",
              "      background-color: #E2EBFA;\n",
              "      box-shadow: 0px 1px 2px rgba(60, 64, 67, 0.3), 0px 1px 3px 1px rgba(60, 64, 67, 0.15);\n",
              "      fill: #174EA6;\n",
              "    }\n",
              "\n",
              "    [theme=dark] .colab-df-convert {\n",
              "      background-color: #3B4455;\n",
              "      fill: #D2E3FC;\n",
              "    }\n",
              "\n",
              "    [theme=dark] .colab-df-convert:hover {\n",
              "      background-color: #434B5C;\n",
              "      box-shadow: 0px 1px 3px 1px rgba(0, 0, 0, 0.15);\n",
              "      filter: drop-shadow(0px 1px 2px rgba(0, 0, 0, 0.3));\n",
              "      fill: #FFFFFF;\n",
              "    }\n",
              "  </style>\n",
              "\n",
              "      <script>\n",
              "        const buttonEl =\n",
              "          document.querySelector('#df-cce0c3b1-2470-401c-9aa2-5432e7f3877b button.colab-df-convert');\n",
              "        buttonEl.style.display =\n",
              "          google.colab.kernel.accessAllowed ? 'block' : 'none';\n",
              "\n",
              "        async function convertToInteractive(key) {\n",
              "          const element = document.querySelector('#df-cce0c3b1-2470-401c-9aa2-5432e7f3877b');\n",
              "          const dataTable =\n",
              "            await google.colab.kernel.invokeFunction('convertToInteractive',\n",
              "                                                     [key], {});\n",
              "          if (!dataTable) return;\n",
              "\n",
              "          const docLinkHtml = 'Like what you see? Visit the ' +\n",
              "            '<a target=\"_blank\" href=https://colab.research.google.com/notebooks/data_table.ipynb>data table notebook</a>'\n",
              "            + ' to learn more about interactive tables.';\n",
              "          element.innerHTML = '';\n",
              "          dataTable['output_type'] = 'display_data';\n",
              "          await google.colab.output.renderOutput(dataTable, element);\n",
              "          const docLink = document.createElement('div');\n",
              "          docLink.innerHTML = docLinkHtml;\n",
              "          element.appendChild(docLink);\n",
              "        }\n",
              "      </script>\n",
              "    </div>\n",
              "  </div>\n",
              "  "
            ]
          },
          "metadata": {},
          "execution_count": 43
        }
      ]
    },
    {
      "cell_type": "markdown",
      "source": [
        "Несмотря на то, что по ML метрикам выигрывала модель GB, по бизнес метрикам лучше других себя проявила модель LR. Это обусловлено тем, что у нее самая высокая полнота определения целевого класса. А цена ошибок FN в данной бизнес задаче велика. Поэтому для каждой конкретной бизнес задачи необходимо определять целевую ML метрику, которая корелирует с целевой бизнес метрикой."
      ],
      "metadata": {
        "id": "Km6vCsY8etH9"
      }
    },
    {
      "cell_type": "markdown",
      "source": [
        "4. (*)Найти порог классификации по деньгам для лучшей модели\n",
        "    - Стоимость лечения 15000р, если сделали тест и начали лечить вовремя\n",
        "    - Стоимость лечения 20000р, если упустили и начали лечить когда уже проявились все симптомы\n",
        "    - Стоимость теста 1400р"
      ],
      "metadata": {
        "id": "LCNTRXVsgBab"
      }
    },
    {
      "cell_type": "markdown",
      "source": [
        "Лучше всего по расходам показала себя модель LR, оптимизируем ее порог классификации. Для этого напишем функцию поиска наилучшей отсечки."
      ],
      "metadata": {
        "id": "h7EEJDzrhbqb"
      }
    },
    {
      "cell_type": "code",
      "source": [
        "def business_threshold_calibrate(y_test, y_score, thresholds,\n",
        "                                 rubl_test=100, rubl_early_treatment=100, rubl_late_treatment=1000):\n",
        "    business_threshold = 0\n",
        "    r_test_all_r_ML_ = 0\n",
        "\n",
        "    rubl_ML_ = 1000000000\n",
        "\n",
        "    rs = []\n",
        "    n = 20\n",
        "    for opt_buisness_tr in np.linspace(0, 1, n).tolist():\n",
        "        # подберем порог для улучшения бизнесс показателя\n",
        "\n",
        "        cnf_matrix = confusion_matrix(y_test, y_score > (opt_buisness_tr))\n",
        "        TN = cnf_matrix[0][0]\n",
        "        FN = cnf_matrix[1][0]\n",
        "        TP = cnf_matrix[1][1]\n",
        "        FP = cnf_matrix[0][1]\n",
        "\n",
        "        rubl_1 = (TP + FN) * rubl_late_treatment\n",
        "        rubl_test_all = np.sum(cnf_matrix) * rubl_test + (FN + TP) * rubl_early_treatment\n",
        "        rubl_ML = (TP + FP) * rubl_test + FN * rubl_late_treatment + TP * rubl_early_treatment\n",
        "        \n",
        "        r_test_all_r_ML = rubl_test_all - rubl_ML \n",
        "        \n",
        "        if rubl_ML < rubl_ML_:            \n",
        "            business_threshold = opt_buisness_tr\n",
        "            \n",
        "            rubl_ML_ = rubl_ML\n",
        "            \n",
        "        rs.append(rubl_ML)   \n",
        "            \n",
        "    \n",
        "    print('расходы, если не делать тест и ждать симптомов:', rubl_1)\n",
        "    print('расходы, если делать тест всем и лечить группу больных:', rubl_test_all)\n",
        "    print('расходы, если использовать МЛ:', rubl_ML_)\n",
        "\n",
        "    print('Расходы \"решение не делать тесты - расходы с МL:\"', rubl_1 - rubl_ML_)\n",
        "    print('Расходы \"решение не делать тесты - расходы сделать тесты всем\":', rubl_1 - rubl_test_all)\n",
        "    print('Расходы \"сделать тесты всем - решение делать тесты ML\":', rubl_test_all - rubl_ML_)\n",
        "    \n",
        "    plt.title('Потери при МЛ решении')\n",
        "    plt.xlabel('Отсечка')\n",
        "    plt.ylabel('Потери')\n",
        "    plt.plot(np.linspace(0,1,n), rs)\n",
        "    plt.show()\n",
        "    return business_threshold"
      ],
      "metadata": {
        "id": "JuvYZPUahrES"
      },
      "execution_count": 59,
      "outputs": []
    },
    {
      "cell_type": "markdown",
      "source": [
        "И получим необходимый порог при заданной стоимости медицинских услуг:"
      ],
      "metadata": {
        "id": "6Lhb7VXIiaQ6"
      }
    },
    {
      "cell_type": "code",
      "source": [
        "busines_tr = business_threshold_calibrate(y_test, y_score, \n",
        "                                          thresholds[ix],\n",
        "                                          rubl_test=1400, \n",
        "                                          rubl_early_treatment=15000, \n",
        "                                          rubl_late_treatment=20000)\n",
        "\n",
        "print('уровень порога по бизнес метрике', busines_tr)\n",
        "print('уровень порога по f1 метрике', thresholds[ix])"
      ],
      "metadata": {
        "colab": {
          "base_uri": "https://localhost:8080/",
          "height": 448
        },
        "id": "-FIrvxiAiX6S",
        "outputId": "9db45a60-01b1-4d95-9cea-6680aff02f6f"
      },
      "execution_count": 60,
      "outputs": [
        {
          "output_type": "stream",
          "name": "stdout",
          "text": [
            "расходы, если не делать тест и ждать симптомов: 173600000\n",
            "расходы, если делать тест всем и лечить группу больных: 154700000\n",
            "расходы, если использовать МЛ: 152712400\n",
            "Расходы \"решение не делать тесты - расходы с МL:\" 20887600\n",
            "Расходы \"решение не делать тесты - расходы сделать тесты всем\": 18900000\n",
            "Расходы \"сделать тесты всем - решение делать тесты ML\": 1987600\n"
          ]
        },
        {
          "output_type": "display_data",
          "data": {
            "text/plain": [
              "<Figure size 432x288 with 1 Axes>"
            ],
            "image/png": "[encoded data removed]"
          },
          "metadata": {
            "needs_background": "light"
          }
        },
        {
          "output_type": "stream",
          "name": "stdout",
          "text": [
            "уровень порога по бизнес метрике 0.3157894736842105\n",
            "уровень порога по f1 метрике 0.3869370891147379\n"
          ]
        }
      ]
    }
  ]
}