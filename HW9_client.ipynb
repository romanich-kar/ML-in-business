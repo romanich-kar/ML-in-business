{
 "cells": [
  {
   "cell_type": "markdown",
   "id": "2688c47c",
   "metadata": {},
   "source": [
    "Строим запрос к нашему сервису предсказания вероятности покупки страховки."
   ]
  },
  {
   "cell_type": "code",
   "execution_count": 30,
   "id": "9b9e68e8",
   "metadata": {},
   "outputs": [],
   "source": [
    "import requests\n",
    "import numpy as np\n",
    "import pandas as pd\n",
    "import urllib.request\n",
    "import json"
   ]
  },
  {
   "cell_type": "code",
   "execution_count": 9,
   "id": "c63ae1a0",
   "metadata": {},
   "outputs": [],
   "source": [
    "X_test = pd.read_csv(\"X_test.csv\")\n",
    "y_test = pd.read_csv(\"y_test.csv\")"
   ]
  },
  {
   "cell_type": "code",
   "execution_count": 18,
   "id": "bf6f34f9",
   "metadata": {},
   "outputs": [],
   "source": [
    "# функция формирования запроса\n",
    "def send_json(x):\n",
    "    d1 = int(x['Age'])\n",
    "    d2 = int(x['AnnualIncome'])\n",
    "    d3 = int(x['FamilyMembers'])\n",
    "    d4 = int(x['ChronicDiseases'])\n",
    "    d5 = str(x['FrequentFlyer'])\n",
    "    d6  = str(x['EverTravelledAbroad'])\n",
    "    body = {\n",
    "        'Age': d1, \n",
    "        'AnnualIncome': d2,\n",
    "        'FamilyMembers': d3,\n",
    "        'ChronicDiseases': d4,\n",
    "        'FrequentFlyer': d5,\n",
    "        'EverTravelledAbroad': d6\n",
    "        }\n",
    "    myurl = 'http://127.0.0.1:5000/predict'\n",
    "    headers = {'content-type': 'application/json; charset=utf-8'}\n",
    "    response = requests.post(myurl, json=body, headers=headers)\n",
    "    return response.json()['predictions']"
   ]
  },
  {
   "cell_type": "markdown",
   "id": "7cc474ef",
   "metadata": {},
   "source": [
    "Проверка на одиночном примере:"
   ]
  },
  {
   "cell_type": "code",
   "execution_count": 16,
   "id": "251e2770",
   "metadata": {},
   "outputs": [],
   "source": [
    "a = {'Age':28, 'AnnualIncome':258000, 'FamilyMembers':3, 'ChronicDiseases':0, 'FrequentFlyer':'Yes', 'EverTravelledAbroad':'No'}"
   ]
  },
  {
   "cell_type": "code",
   "execution_count": 23,
   "id": "4c53dc50",
   "metadata": {},
   "outputs": [
    {
     "data": {
      "text/plain": [
       "0.095"
      ]
     },
     "execution_count": 23,
     "metadata": {},
     "output_type": "execute_result"
    }
   ],
   "source": [
    "response = send_json(a)\n",
    "response"
   ]
  },
  {
   "cell_type": "markdown",
   "id": "ac4b5285",
   "metadata": {},
   "source": [
    "Сделаем N запросов и оценим время."
   ]
  },
  {
   "cell_type": "code",
   "execution_count": 37,
   "id": "f1df31f3",
   "metadata": {},
   "outputs": [],
   "source": [
    "N = 100"
   ]
  },
  {
   "cell_type": "code",
   "execution_count": 38,
   "id": "8423b081",
   "metadata": {},
   "outputs": [
    {
     "name": "stdout",
     "output_type": "stream",
     "text": [
      "Wall time: 3.9 s\n"
     ]
    }
   ],
   "source": [
    "%%time\n",
    "predictions = X_test[\n",
    "                     ['Age', 'AnnualIncome', 'FamilyMembers', 'ChronicDiseases', 'FrequentFlyer', 'EverTravelledAbroad']\n",
    "                     ].iloc[:N].apply(lambda x: send_json(x), axis=1)"
   ]
  },
  {
   "cell_type": "code",
   "execution_count": 29,
   "id": "8983ea26",
   "metadata": {},
   "outputs": [
    {
     "data": {
      "text/plain": [
       "array([0.33466667, 0.21560498, 0.57480952, 0.        , 0.575     ,\n",
       "       0.        , 0.45759524, 0.37544048, 1.        , 0.45      ])"
      ]
     },
     "execution_count": 29,
     "metadata": {},
     "output_type": "execute_result"
    }
   ],
   "source": [
    "predictions.values[:10]"
   ]
  },
  {
   "cell_type": "markdown",
   "id": "a6d16b97",
   "metadata": {},
   "source": [
    "Посчитаем метрику:"
   ]
  },
  {
   "cell_type": "code",
   "execution_count": 31,
   "id": "8808826d",
   "metadata": {},
   "outputs": [],
   "source": [
    "from sklearn.metrics import roc_auc_score, roc_curve, precision_recall_curve\n",
    "from sklearn.metrics import f1_score"
   ]
  },
  {
   "cell_type": "code",
   "execution_count": 32,
   "id": "1d0ddd2d",
   "metadata": {},
   "outputs": [
    {
     "name": "stdout",
     "output_type": "stream",
     "text": [
      "Best Threshold=0.4575952380952381, F-Score=0.750, Precision=0.750, Recall=0.750\n"
     ]
    }
   ],
   "source": [
    "precision, recall, thresholds = precision_recall_curve(y_test[:N], predictions)\n",
    "\n",
    "fscore = (2 * precision * recall) / (precision + recall)\n",
    "# locate the index of the largest f score\n",
    "ix = np.argmax(fscore)\n",
    "print(f'Best Threshold={thresholds[ix]}, F-Score={fscore[ix]:.3f}, Precision={precision[ix]:.3f}, Recall={recall[ix]:.3f}')"
   ]
  },
  {
   "cell_type": "markdown",
   "id": "ba825a57",
   "metadata": {},
   "source": [
    "Метрики качества прогнозирования на 100 тестовых объектах близки к показателям на всей тестовой выоборке. Модель работает."
   ]
  }
 ],
 "metadata": {
  "kernelspec": {
   "display_name": "Python 3",
   "language": "python",
   "name": "python3"
  },
  "language_info": {
   "codemirror_mode": {
    "name": "ipython",
    "version": 3
   },
   "file_extension": ".py",
   "mimetype": "text/x-python",
   "name": "python",
   "nbconvert_exporter": "python",
   "pygments_lexer": "ipython3",
   "version": "3.8.8"
  }
 },
 "nbformat": 4,
 "nbformat_minor": 5
}
